{
 "cells": [
  {
   "cell_type": "markdown",
   "metadata": {},
   "source": [
    "# Abstract\n",
    "\n",
    "This notebook defines the `BaseNodeSerialMonitor` class to create a\n",
    "connection to a serial port and reconnect when disconnected.\n",
    "\n",
    "The `SerialProxy` class demonstrates how a `BaseNodeSerialMonitor`\n",
    "class can be used with a generated `Proxy` class, e.g., `dropbot.node.Proxy`.\n",
    "\n",
    "\n",
    "# XXX TODO\n",
    "\n",
    " 1. Demux incoming packets based on packet type.\n",
    "     - [ ] Send `blinker` signal when a packet is received.\n",
    " 2. Requests should only complete if a **`DATA`** packet is available.\n",
    " \n",
    "For **(2)**, there could be an [`asyncio.Queue`](https://docs.python.org/3/library/asyncio-queue.html#asyncio.Queue) that the request could `await` on.  The `blinker` signal handler for **`DATA`** packets could push into that queue."
   ]
  },
  {
   "cell_type": "code",
   "execution_count": 1,
   "metadata": {},
   "outputs": [],
   "source": [
    "import logging\n",
    "import platform\n",
    "import sys\n",
    "import time\n",
    "import threading\n",
    "\n",
    "import asyncio\n",
    "import asyncserial\n",
    "import base_node_rpc as bnr\n",
    "import base_node_rpc.async\n",
    "import serial\n",
    "import serial_device as sd\n",
    "import serial_device.threaded\n",
    "\n",
    "\n",
    "logging.basicConfig(level=logging.DEBUG)\n",
    "if '../..' not in sys.path:\n",
    "    sys.path.insert(0, '../..')"
   ]
  },
  {
   "cell_type": "code",
   "execution_count": 2,
   "metadata": {},
   "outputs": [
    {
     "name": "stderr",
     "output_type": "stream",
     "text": [
      "DEBUG:asyncio:Using proactor: IocpProactor\n"
     ]
    },
    {
     "data": {
      "text/html": [
       "<div>\n",
       "<style scoped>\n",
       "    .dataframe tbody tr th:only-of-type {\n",
       "        vertical-align: middle;\n",
       "    }\n",
       "\n",
       "    .dataframe tbody tr th {\n",
       "        vertical-align: top;\n",
       "    }\n",
       "\n",
       "    .dataframe thead th {\n",
       "        text-align: right;\n",
       "    }\n",
       "</style>\n",
       "<table border=\"1\" class=\"dataframe\">\n",
       "  <thead>\n",
       "    <tr style=\"text-align: right;\">\n",
       "      <th></th>\n",
       "      <th>descriptor</th>\n",
       "      <th>hardware_id</th>\n",
       "      <th>vid</th>\n",
       "      <th>pid</th>\n",
       "      <th>available</th>\n",
       "      <th>baudrate</th>\n",
       "      <th>device_name</th>\n",
       "      <th>device_version</th>\n",
       "      <th>timeout</th>\n",
       "    </tr>\n",
       "    <tr>\n",
       "      <th>port</th>\n",
       "      <th></th>\n",
       "      <th></th>\n",
       "      <th></th>\n",
       "      <th></th>\n",
       "      <th></th>\n",
       "      <th></th>\n",
       "      <th></th>\n",
       "      <th></th>\n",
       "      <th></th>\n",
       "    </tr>\n",
       "  </thead>\n",
       "  <tbody>\n",
       "    <tr>\n",
       "      <th>COM8</th>\n",
       "      <td>USB Serial Device (COM8)</td>\n",
       "      <td>USB VID:PID=16C0:0483 SER=2600560 LOCATION=1-2</td>\n",
       "      <td>16c0</td>\n",
       "      <td>0483</td>\n",
       "      <td>True</td>\n",
       "      <td>9600</td>\n",
       "      <td>dropbot</td>\n",
       "      <td>1.46+17.gc6f89dc</td>\n",
       "      <td>None</td>\n",
       "    </tr>\n",
       "  </tbody>\n",
       "</table>\n",
       "</div>"
      ],
      "text/plain": [
       "                    descriptor  \\\n",
       "port                             \n",
       "COM8  USB Serial Device (COM8)   \n",
       "\n",
       "                                         hardware_id   vid   pid  available  \\\n",
       "port                                                                          \n",
       "COM8  USB VID:PID=16C0:0483 SER=2600560 LOCATION=1-2  16c0  0483       True   \n",
       "\n",
       "      baudrate device_name    device_version timeout  \n",
       "port                                                  \n",
       "COM8      9600     dropbot  1.46+17.gc6f89dc    None  "
      ]
     },
     "execution_count": 2,
     "metadata": {},
     "output_type": "execute_result"
    }
   ],
   "source": [
    "bnr.available_devices()"
   ]
  },
  {
   "cell_type": "code",
   "execution_count": 3,
   "metadata": {},
   "outputs": [
    {
     "name": "stderr",
     "output_type": "stream",
     "text": [
      "DEBUG:asyncio:Using proactor: IocpProactor\n",
      "INFO:root:connected to COM8\n"
     ]
    },
    {
     "name": "stderr",
     "output_type": "stream",
     "text": [
      "<<<<<<< local\n"
     ]
    },
    {
     "name": "stderr",
     "output_type": "stream",
     "text": [
      "=======\n"
     ]
    },
    {
     "data": {
      "text/plain": [
       "<nadamq.NadaMq.cPacket at 0x95d2100>"
      ]
     },
     "metadata": {},
     "output_type": "display_data"
    },
    {
     "data": {
      "text/plain": [
       "<nadamq.NadaMq.cPacket at 0x95d2160>"
      ]
     },
     "metadata": {},
     "output_type": "display_data"
    },
    {
     "name": "stderr",
     "output_type": "stream",
     "text": [
      ">>>>>>> remote\n"
     ]
    },
    {
     "name": "stderr",
     "output_type": "stream",
     "text": [
      "<<<<<<< local <modified: >\n"
     ]
    },
    {
     "name": "stdout",
     "output_type": "stream",
     "text": [
      "6.57 ms ± 356 µs per loop (mean ± std. dev. of 7 runs, 100 loops each)\n",
      "6.64 ms ± 52.8 µs per loop (mean ± std. dev. of 7 runs, 100 loops each)\n"
     ]
    },
    {
     "name": "stderr",
     "output_type": "stream",
     "text": [
      "=======\n"
     ]
    },
    {
     "name": "stderr",
     "output_type": "stream",
     "text": [
      ">>>>>>> remote <removed>\n"
     ]
    },
    {
     "name": "stderr",
     "output_type": "stream",
     "text": [
      "INFO:root:disconnected from COM8\n",
      "INFO:root:stopped monitoring COM8\n"
     ]
    }
   ],
   "source": [
    "from IPython.display import display\n",
    "from dropbot.proxy_py3 import BaseNodeSerialMonitor\n",
    "\n",
    "\n",
    "result_received = threading.Event()\n",
    "\n",
    "with BaseNodeSerialMonitor(port='COM8') as monitor:\n",
    "    monitor.connected_event.wait()\n",
    "    REQUEST = b'|||\\x00\\x00d\\x00\\x02\\xfc\\x03\\x01\\x01'\n",
    "\n",
    "    display(monitor.request(REQUEST, timeout=3))\n",
    "    display(asyncio.run_coroutine_threadsafe(monitor.arequest(REQUEST), monitor.loop).result())\n",
    "    # No need to call `monitor.stop()` when as a context manager."
   ]
  },
  {
   "cell_type": "code",
   "execution_count": 4,
   "metadata": {},
   "outputs": [
    {
     "name": "stderr",
     "output_type": "stream",
     "text": [
      "DEBUG:asyncio:Using proactor: IocpProactor\n"
     ]
    },
    {
     "data": {
      "text/html": [
       "<div>\n",
       "<style scoped>\n",
       "    .dataframe tbody tr th:only-of-type {\n",
       "        vertical-align: middle;\n",
       "    }\n",
       "\n",
       "    .dataframe tbody tr th {\n",
       "        vertical-align: top;\n",
       "    }\n",
       "\n",
       "    .dataframe thead th {\n",
       "        text-align: right;\n",
       "    }\n",
       "</style>\n",
       "<table border=\"1\" class=\"dataframe\">\n",
       "  <thead>\n",
       "    <tr style=\"text-align: right;\">\n",
       "      <th></th>\n",
       "      <th>descriptor</th>\n",
       "      <th>hardware_id</th>\n",
       "      <th>vid</th>\n",
       "      <th>pid</th>\n",
       "      <th>available</th>\n",
       "      <th>baudrate</th>\n",
       "      <th>device_name</th>\n",
       "      <th>device_version</th>\n",
       "      <th>timeout</th>\n",
       "    </tr>\n",
       "    <tr>\n",
       "      <th>port</th>\n",
       "      <th></th>\n",
       "      <th></th>\n",
       "      <th></th>\n",
       "      <th></th>\n",
       "      <th></th>\n",
       "      <th></th>\n",
       "      <th></th>\n",
       "      <th></th>\n",
       "      <th></th>\n",
       "    </tr>\n",
       "  </thead>\n",
       "  <tbody>\n",
       "    <tr>\n",
       "      <th>COM8</th>\n",
       "      <td>USB Serial Device (COM8)</td>\n",
       "      <td>USB VID:PID=16C0:0483 SER=2600560 LOCATION=1-2</td>\n",
       "      <td>16c0</td>\n",
       "      <td>0483</td>\n",
       "      <td>True</td>\n",
       "      <td>9600</td>\n",
       "      <td>dropbot</td>\n",
       "      <td>1.46+17.gc6f89dc</td>\n",
       "      <td>0.5</td>\n",
       "    </tr>\n",
       "  </tbody>\n",
       "</table>\n",
       "</div>"
      ],
      "text/plain": [
       "                    descriptor  \\\n",
       "port                             \n",
       "COM8  USB Serial Device (COM8)   \n",
       "\n",
       "                                         hardware_id   vid   pid  available  \\\n",
       "port                                                                          \n",
       "COM8  USB VID:PID=16C0:0483 SER=2600560 LOCATION=1-2  16c0  0483       True   \n",
       "\n",
       "      baudrate device_name    device_version  timeout  \n",
       "port                                                   \n",
       "COM8      9600     dropbot  1.46+17.gc6f89dc      0.5  "
      ]
     },
     "execution_count": 4,
     "metadata": {},
     "output_type": "execute_result"
    }
   ],
   "source": [
    "df_devices = bnr.available_devices(timeout=.5)\n",
    "df_devices"
   ]
  },
  {
   "cell_type": "code",
   "execution_count": 17,
   "metadata": {},
   "outputs": [],
   "source": [
    "import dropbot\n",
    "\n",
    "dropbot??"
   ]
  },
  {
   "cell_type": "code",
   "execution_count": 11,
   "metadata": {},
   "outputs": [
    {
     "name": "stderr",
     "output_type": "stream",
     "text": [
      "DEBUG:asyncio:taking long time to close proactor\n",
      "DEBUG:asyncio:taking long time to close proactor\n",
      "DEBUG:asyncio:taking long time to close proactor\n"
     ]
    }
   ],
   "source": [
    "<<<<<<< REMOTE CELL DELETED >>>>>>>\n",
    "import dropbot as db\n",
    "import dropbot.node\n",
    "\n",
    "\n",
    "class SerialProxy(db.node.Proxy):\n",
    "    '''\n",
    "    Example using :class:`BaseNodeSerialMonitor` for DropBot\n",
    "    RPC communication.\n",
    "    '''\n",
    "    def __init__(self, *args, **kwargs):\n",
    "        self.monitor = BaseNodeSerialMonitor(*args, **kwargs)\n",
    "        self.monitor.start()\n",
    "        self.monitor.connected_event.wait()\n",
    "    \n",
    "    def _send_command(self, packet):\n",
    "        return self.monitor.request(packet.tobytes())\n",
    "    \n",
    "    def terminate(self):\n",
    "        self.monitor.stop()\n",
    "    \n",
    "    def __enter__(self):\n",
    "        return self\n",
    "    \n",
    "    def __exit__(self, exc_type, exc_value, traceback):\n",
    "        self.terminate()\n",
    "    \n",
    "    def __del__(self):\n",
    "        self.terminate()"
   ]
  },
  {
   "cell_type": "code",
   "execution_count": null,
   "metadata": {},
   "outputs": [
    {
     "name": "stderr",
     "output_type": "stream",
     "text": [
      "<<<<<<< local\n"
     ]
    },
    {
     "name": "stderr",
     "output_type": "stream",
     "text": [
      "DEBUG:asyncio:Using proactor: IocpProactor\n"
     ]
    },
    {
     "ename": "AttributeError",
     "evalue": "'DataFrame' object has no attribute 'device_name'",
     "output_type": "error",
     "traceback": [
      "\u001B[1;31m---------------------------------------------------------------------------\u001B[0m",
      "\u001B[1;31mAttributeError\u001B[0m                            Traceback (most recent call last)",
      "\u001B[1;32m<ipython-input-16-c68d4a5dbd82>\u001B[0m in \u001B[0;36m<module>\u001B[1;34m()\u001B[0m\n\u001B[0;32m      1\u001B[0m \u001B[1;31m# Find DropBots\u001B[0m\u001B[1;33m\u001B[0m\u001B[1;33m\u001B[0m\u001B[0m\n\u001B[0;32m      2\u001B[0m \u001B[0mdf_devices\u001B[0m \u001B[1;33m=\u001B[0m \u001B[0mbnr\u001B[0m\u001B[1;33m.\u001B[0m\u001B[0mavailable_devices\u001B[0m\u001B[1;33m(\u001B[0m\u001B[0mtimeout\u001B[0m\u001B[1;33m=\u001B[0m\u001B[1;36m.5\u001B[0m\u001B[1;33m)\u001B[0m\u001B[1;33m\u001B[0m\u001B[0m\n\u001B[1;32m----> 3\u001B[1;33m \u001B[0mdf_dropbots\u001B[0m \u001B[1;33m=\u001B[0m \u001B[0mdf_devices\u001B[0m\u001B[1;33m.\u001B[0m\u001B[0mloc\u001B[0m\u001B[1;33m[\u001B[0m\u001B[0mdf_devices\u001B[0m\u001B[1;33m.\u001B[0m\u001B[0mdevice_name\u001B[0m \u001B[1;33m==\u001B[0m \u001B[1;34m'dropbot'\u001B[0m\u001B[1;33m]\u001B[0m\u001B[1;33m\u001B[0m\u001B[0m\n\u001B[0m\u001B[0;32m      4\u001B[0m \u001B[1;32mif\u001B[0m \u001B[1;32mnot\u001B[0m \u001B[0mdf_dropbots\u001B[0m\u001B[1;33m.\u001B[0m\u001B[0mshape\u001B[0m\u001B[1;33m[\u001B[0m\u001B[1;36m0\u001B[0m\u001B[1;33m]\u001B[0m\u001B[1;33m:\u001B[0m\u001B[1;33m\u001B[0m\u001B[0m\n\u001B[0;32m      5\u001B[0m     \u001B[1;32mraise\u001B[0m \u001B[0mIOError\u001B[0m\u001B[1;33m(\u001B[0m\u001B[1;34m'No DropBot available for connection'\u001B[0m\u001B[1;33m)\u001B[0m\u001B[1;33m\u001B[0m\u001B[0m\n",
      "\u001B[1;32m~\\Miniconda2-x86\\conda-bld\\dropbot_1519314846138\\_h_env\\lib\\site-packages\\pandas\\core\\generic.py\u001B[0m in \u001B[0;36m__getattr__\u001B[1;34m(self, name)\u001B[0m\n\u001B[0;32m   3612\u001B[0m             \u001B[1;32mif\u001B[0m \u001B[0mname\u001B[0m \u001B[1;32min\u001B[0m \u001B[0mself\u001B[0m\u001B[1;33m.\u001B[0m\u001B[0m_info_axis\u001B[0m\u001B[1;33m:\u001B[0m\u001B[1;33m\u001B[0m\u001B[0m\n\u001B[0;32m   3613\u001B[0m                 \u001B[1;32mreturn\u001B[0m \u001B[0mself\u001B[0m\u001B[1;33m[\u001B[0m\u001B[0mname\u001B[0m\u001B[1;33m]\u001B[0m\u001B[1;33m\u001B[0m\u001B[0m\n\u001B[1;32m-> 3614\u001B[1;33m             \u001B[1;32mreturn\u001B[0m \u001B[0mobject\u001B[0m\u001B[1;33m.\u001B[0m\u001B[0m__getattribute__\u001B[0m\u001B[1;33m(\u001B[0m\u001B[0mself\u001B[0m\u001B[1;33m,\u001B[0m \u001B[0mname\u001B[0m\u001B[1;33m)\u001B[0m\u001B[1;33m\u001B[0m\u001B[0m\n\u001B[0m\u001B[0;32m   3615\u001B[0m \u001B[1;33m\u001B[0m\u001B[0m\n\u001B[0;32m   3616\u001B[0m     \u001B[1;32mdef\u001B[0m \u001B[0m__setattr__\u001B[0m\u001B[1;33m(\u001B[0m\u001B[0mself\u001B[0m\u001B[1;33m,\u001B[0m \u001B[0mname\u001B[0m\u001B[1;33m,\u001B[0m \u001B[0mvalue\u001B[0m\u001B[1;33m)\u001B[0m\u001B[1;33m:\u001B[0m\u001B[1;33m\u001B[0m\u001B[0m\n",
      "\u001B[1;31mAttributeError\u001B[0m: 'DataFrame' object has no attribute 'device_name'"
     ]
    },
    {
     "name": "stderr",
     "output_type": "stream",
     "text": [
      "=======\n"
     ]
    },
    {
     "name": "stderr",
     "output_type": "stream",
     "text": [
      "DEBUG:asyncio:Using proactor: IocpProactor\n",
      "DEBUG:asyncio:Using proactor: IocpProactor\n",
      "DEBUG:asyncio:taking long time to close proactor\n",
      "DEBUG:asyncio:Using proactor: IocpProactor\n",
      "INFO:root:connected to COM8\n"
     ]
    },
    {
     "name": "stdout",
     "output_type": "stream",
     "text": [
      "49708\n",
      "1\n",
      "1\n"
     ]
    },
    {
     "name": "stderr",
     "output_type": "stream",
     "text": [
      "INFO:root:disconnected from COM8\n",
      "INFO:root:stopped monitoring COM8\n"
     ]
    },
    {
     "name": "stderr",
     "output_type": "stream",
     "text": [
      ">>>>>>> remote\n"
     ]
    },
    {
     "ename": "TypeError",
     "evalue": "can't concat str to bytes",
     "output_type": "error",
     "traceback": [
      "\u001B[1;31m---------------------------------------------------------------------------\u001B[0m",
      "\u001B[1;31mTypeError\u001B[0m                                 Traceback (most recent call last)",
      "\u001B[1;32m<ipython-input-7-3d23f1d99f68>\u001B[0m in \u001B[0;36m<module>\u001B[1;34m()\u001B[0m\n\u001B[0;32m      9\u001B[0m \u001B[1;33m\u001B[0m\u001B[0m\n\u001B[0;32m     10\u001B[0m \u001B[1;32mwith\u001B[0m \u001B[0mSerialProxy\u001B[0m\u001B[1;33m(\u001B[0m\u001B[0mport\u001B[0m\u001B[1;33m=\u001B[0m\u001B[0mport\u001B[0m\u001B[1;33m)\u001B[0m \u001B[1;32mas\u001B[0m \u001B[0mproxy\u001B[0m\u001B[1;33m:\u001B[0m\u001B[1;33m\u001B[0m\u001B[0m\n\u001B[1;32m---> 11\u001B[1;33m     \u001B[0mprint\u001B[0m\u001B[1;33m(\u001B[0m\u001B[0mproxy\u001B[0m\u001B[1;33m.\u001B[0m\u001B[0mram_free\u001B[0m\u001B[1;33m(\u001B[0m\u001B[1;33m)\u001B[0m\u001B[1;33m)\u001B[0m\u001B[1;33m\u001B[0m\u001B[0m\n\u001B[0m\u001B[0;32m     12\u001B[0m \u001B[1;33m\u001B[0m\u001B[0m\n\u001B[0;32m     13\u001B[0m     \u001B[0mprint\u001B[0m\u001B[1;33m(\u001B[0m\u001B[0mproxy\u001B[0m\u001B[1;33m.\u001B[0m\u001B[0mdigital_read\u001B[0m\u001B[1;33m(\u001B[0m\u001B[1;36m13\u001B[0m\u001B[1;33m)\u001B[0m\u001B[1;33m)\u001B[0m\u001B[1;33m\u001B[0m\u001B[0m\n",
      "\u001B[1;32m~\\Documents\\GitHub\\dropbot.py\\dropbot\\node.py\u001B[0m in \u001B[0;36mram_free\u001B[1;34m(self)\u001B[0m\n\u001B[0;32m    370\u001B[0m         \u001B[0mpayload_data\u001B[0m \u001B[1;33m=\u001B[0m \u001B[1;34m''\u001B[0m\u001B[1;33m\u001B[0m\u001B[0m\n\u001B[0;32m    371\u001B[0m \u001B[1;33m\u001B[0m\u001B[0m\n\u001B[1;32m--> 372\u001B[1;33m         \u001B[0mpayload_data\u001B[0m \u001B[1;33m=\u001B[0m \u001B[0mcommand\u001B[0m\u001B[1;33m.\u001B[0m\u001B[0mtostring\u001B[0m\u001B[1;33m(\u001B[0m\u001B[1;33m)\u001B[0m \u001B[1;33m+\u001B[0m \u001B[0mpayload_data\u001B[0m\u001B[1;33m\u001B[0m\u001B[0m\n\u001B[0m\u001B[0;32m    373\u001B[0m         \u001B[0mpacket\u001B[0m \u001B[1;33m=\u001B[0m \u001B[0mcPacket\u001B[0m\u001B[1;33m(\u001B[0m\u001B[0mdata\u001B[0m\u001B[1;33m=\u001B[0m\u001B[0mpayload_data\u001B[0m\u001B[1;33m,\u001B[0m \u001B[0mtype_\u001B[0m\u001B[1;33m=\u001B[0m\u001B[0mPACKET_TYPES\u001B[0m\u001B[1;33m.\u001B[0m\u001B[0mDATA\u001B[0m\u001B[1;33m)\u001B[0m\u001B[1;33m\u001B[0m\u001B[0m\n\u001B[0;32m    374\u001B[0m         \u001B[0mresponse\u001B[0m \u001B[1;33m=\u001B[0m \u001B[0mself\u001B[0m\u001B[1;33m.\u001B[0m\u001B[0m_send_command\u001B[0m\u001B[1;33m(\u001B[0m\u001B[0mpacket\u001B[0m\u001B[1;33m)\u001B[0m\u001B[1;33m\u001B[0m\u001B[0m\n",
      "\u001B[1;31mTypeError\u001B[0m: can't concat str to bytes"
     ]
    }
   ],
   "source": [
    "from dropbot import SerialProxy\n",
    "\n",
    "\n",
    "# Find DropBots\n",
    "df_devices = bnr.available_devices(timeout=.5)\n",
    "if not df_devices.shape[0]:\n",
    "    raise IOError('No DropBot available for connection')\n",
    "df_dropbots = df_devices.loc[df_devices.device_name\n",
    "                             .isin(['dropbot', b'dropbot'])]\n",
    "if not df_dropbots.shape[0]:\n",
    "    raise IOError('No DropBot available for connection')\n",
    "port = df_dropbots.index[0]\n",
    "\n",
    "with SerialProxy() as proxy:\n",
    "    print(proxy.ram_free())\n",
    "\n",
    "    print(proxy.digital_read(13))\n",
    "#     %timeit proxy.digital_write(13, 0)\n",
    "    print(proxy.digital_read(13))"
   ]
  }
 ],
 "metadata": {
  "kernelspec": {
   "display_name": "Python 3",
   "language": "python",
   "name": "python3"
  },
  "language_info": {
   "codemirror_mode": {
    "name": "ipython",
    "version": 3
   },
   "file_extension": ".py",
   "mimetype": "text/x-python",
   "name": "python",
   "nbconvert_exporter": "python",
   "pygments_lexer": "ipython3",
   "version": "3.6.4"
  }
 },
 "nbformat": 4,
 "nbformat_minor": 2
}
