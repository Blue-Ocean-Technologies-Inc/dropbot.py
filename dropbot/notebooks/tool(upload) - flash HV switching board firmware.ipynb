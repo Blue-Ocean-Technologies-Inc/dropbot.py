{
 "cells": [
  {
   "cell_type": "code",
   "execution_count": 1,
   "metadata": {
    "ExecuteTime": {
     "end_time": "2018-04-13T20:03:10.597000Z",
     "start_time": "2018-04-13T20:02:58.179000Z"
    }
   },
   "outputs": [
    {
     "data": {
      "text/html": [
       "<div>\n",
       "<style scoped>\n",
       "    .dataframe tbody tr th:only-of-type {\n",
       "        vertical-align: middle;\n",
       "    }\n",
       "\n",
       "    .dataframe tbody tr th {\n",
       "        vertical-align: top;\n",
       "    }\n",
       "\n",
       "    .dataframe thead th {\n",
       "        text-align: right;\n",
       "    }\n",
       "</style>\n",
       "<table border=\"1\" class=\"dataframe\">\n",
       "  <thead>\n",
       "    <tr style=\"text-align: right;\">\n",
       "      <th></th>\n",
       "      <th>descriptor</th>\n",
       "      <th>hardware_id</th>\n",
       "      <th>vid</th>\n",
       "      <th>pid</th>\n",
       "      <th>available</th>\n",
       "    </tr>\n",
       "    <tr>\n",
       "      <th>port</th>\n",
       "      <th></th>\n",
       "      <th></th>\n",
       "      <th></th>\n",
       "      <th></th>\n",
       "      <th></th>\n",
       "    </tr>\n",
       "  </thead>\n",
       "  <tbody>\n",
       "    <tr>\n",
       "      <th>COM15</th>\n",
       "      <td>USB Serial Device (COM15)</td>\n",
       "      <td>USB VID:PID=16C0:0483 SER=3134890 LOCATION=1-1</td>\n",
       "      <td>16c0</td>\n",
       "      <td>0483</td>\n",
       "      <td>True</td>\n",
       "    </tr>\n",
       "  </tbody>\n",
       "</table>\n",
       "</div>"
      ],
      "text/plain": [
       "                      descriptor  \\\n",
       "port                               \n",
       "COM15  USB Serial Device (COM15)   \n",
       "\n",
       "                                          hardware_id   vid   pid  available  \n",
       "port                                                                          \n",
       "COM15  USB VID:PID=16C0:0483 SER=3134890 LOCATION=1-1  16c0  0483       True  "
      ]
     },
     "metadata": {},
     "output_type": "display_data"
    },
    {
     "name": "stderr",
     "output_type": "stream",
     "text": [
      "DEBUG:trollius:Using selector: SelectSelector\n",
      "DEBUG:base_node_rpc.async:`ProactorEventLoop` required, not `<class 'trollius.windows_events._WindowsSelectorEventLoop'>`loop in background thread.\n",
      "DEBUG:base_node_rpc.async:Execute new loop in background thread.\n",
      "DEBUG:trollius:Using proactor: IocpProactor\n",
      "DEBUG:base_node_rpc.async:`ProactorEventLoop` required, not `<class 'trollius.windows_events._WindowsSelectorEventLoop'>`loop in background thread.\n",
      "DEBUG:base_node_rpc.async:Execute new loop in background thread.\n",
      "DEBUG:trollius:Using proactor: IocpProactor\n",
      "DEBUG:base_node_rpc.proxy:Attempt to connect to device on port COM15 (baudrate=115200)\n",
      "DEBUG:serial_device.threaded:Open `COM15` and monitor connection status\n",
      "DEBUG:serial_device.threaded:connection_made: `COM15` `<ReaderThread(Thread-13, started daemon 8552)>`\n",
      "DEBUG:base_node_rpc.proxy:Wait for connection to port COM15\n",
      "INFO:base_node_rpc.proxy:Successfully connected to dropbot on port COM15\n"
     ]
    },
    {
     "data": {
      "text/plain": [
       "base_node_software_version                                    0.48.1rc1\n",
       "package_name                                                    dropbot\n",
       "display_name                                                    DropBot\n",
       "manufacturer                                              Sci-Bots Inc.\n",
       "url                           http://gitlab.com/sci-bots/dropbot.py.git\n",
       "software_version                                 1.48+49.g5f3aa88.dirty\n",
       "dtype: object"
      ]
     },
     "metadata": {},
     "output_type": "display_data"
    },
    {
     "name": "stdout",
     "output_type": "stream",
     "text": [
      "Found I2C devices at the following addresses: [31 32 33 34 80 81]\n",
      "Found firmware: C:\\Users\\chris\\Miniconda2-x86\\envs\\db-dev-copy\\share\\platformio\\bin\\hv-switching-board\\v3_1\\firmware.hex (2017-11-24T12:51:00-05:00)\n",
      "Please select one of the following switching boards into recovery mode (or enter \"q\" to quit): [32, 33, 34]\n",
      "32\n",
      "Selected: 651d3f89-ccd0-4ed6-b473-1adb680861bb\n"
     ]
    }
   ],
   "source": [
    "import time\n",
    "\n",
    "from IPython.display import display\n",
    "import arrow\n",
    "import base_node\n",
    "import base_node_rpc as bnr\n",
    "import base_node_rpc.bootloader_driver\n",
    "import dropbot as db\n",
    "import hv_switching_board as hv\n",
    "import hv_switching_board.driver\n",
    "import logging; logging.basicConfig(level=logging.DEBUG)\n",
    "import numpy as np\n",
    "import platformio_helpers as pioh\n",
    "import serial_device\n",
    "\n",
    "# Show available COM ports.\n",
    "display(serial_device.comports(only_available=True))\n",
    "\n",
    "try:\n",
    "    proxy.terminate()\n",
    "except:\n",
    "    pass\n",
    "proxy = db.SerialProxy()\n",
    "display(proxy.properties)\n",
    "i2c_devices = proxy.i2c_scan()\n",
    "print 'Found I2C devices at the following addresses: %s' % i2c_devices\n",
    "\n",
    "# Find HV switching board firmware.\n",
    "firmware_path = pioh.conda_bin_path().joinpath('hv-switching-board', 'v3_1',\n",
    "                                               'firmware.hex')\n",
    "print 'Found firmware: %s (%s)' % (firmware_path, arrow.get(firmware_path.mtime).to('local'))\n",
    "\n",
    "\n",
    "def set_uuid(bootloader, value):\n",
    "    '''\n",
    "    Parameters\n",
    "    ----------\n",
    "    value : uuid.UUID\n",
    "    '''\n",
    "    config_bytes = bootloader.read_eeprom(0, base_node.driver.CONFIG_DTYPE.itemsize)\n",
    "    config = np.fromstring(config_bytes.tobytes(), dtype=base_node.driver.CONFIG_DTYPE)[0]\n",
    "    config['uuid'] = value.bytes\n",
    "    bootloader.write_eeprom(0, config.tobytes())\n",
    "    \n",
    "    \n",
    "def set_board_uuid(hv_board, value):\n",
    "    bootloader = base_node_rpc.bootloader_driver.TwiBootloader(hv_board.proxy)\n",
    "    hv_board.reboot_recovery()\n",
    "    set_uuid(bootloader, value)\n",
    "    bootloader.start_application()\n",
    "\n",
    "    \n",
    "def select_switching_board(proxy):\n",
    "    i2c_devices = proxy.i2c_scan()\n",
    "    switching_board_addrs = [address for address in i2c_devices if address not in [31, 80, 81]]\n",
    "\n",
    "    # Create object to interact with I2C bootloader.\n",
    "    bootloader = bnr.bootloader_driver.TwiBootloader(proxy, bootloader_address=0x29)\n",
    "    if not switching_board_addrs:\n",
    "        raise IOError('No switching boards found on bus.')\n",
    "    elif bootloader.bootloader_address in switching_board_addrs:\n",
    "        raise IOError('I2C bootloader found on bus at address 41.')\n",
    "    else:\n",
    "        selection = None\n",
    "        while selection not in switching_board_addrs:\n",
    "            print ('Please select one of the following switching boards into '\n",
    "                   'recovery mode (or enter \"q\" to quit): %s' %\n",
    "                   switching_board_addrs)\n",
    "\n",
    "            selection = raw_input()\n",
    "            if selection == 'q':\n",
    "                return\n",
    "            try:\n",
    "                address = int(selection)\n",
    "                return hv_switching_board.HVSwitchingBoard(proxy, address=address)\n",
    "            except:\n",
    "                pass\n",
    "\n",
    "            \n",
    "def write_firmware(bootloader, switching_board, firmware_path):\n",
    "    if switching_board is not None:\n",
    "        # Reboot switching board into recovery bootloader.\n",
    "        switching_board.reboot_recovery()\n",
    "        \n",
    "    time.sleep(.2)\n",
    "    bootloader.write_firmware(firmware_path)\n",
    "    logging.info('Launch firmware')\n",
    "    bootloader.start_application()\n",
    "    # Wait for switching board firmware to boot.\n",
    "    time.sleep(.2)\n",
    "    i2c_devices = bootloader.proxy.i2c_scan()\n",
    "    print 'Found I2C devices at the following addresses: %s' % i2c_devices\n",
    "\n",
    "    \n",
    "while True:\n",
    "    try:\n",
    "        switching_board = select_switching_board(proxy)\n",
    "        print 'Selected: %s' % switching_board.uuid\n",
    "        break\n",
    "    except IOError:\n",
    "        if 41 in proxy.i2c_scan():\n",
    "            print 'Switching board found in recovery mode at I2C address 41'\n",
    "            bootloader = bnr.bootloader_driver.TwiBootloader(proxy, bootloader_address=41)\n",
    "            bootloader.start_application()\n",
    "            time.sleep(.1)\n",
    "        else:\n",
    "            raise\n",
    "        \n",
    "bootloader = bnr.bootloader_driver.TwiBootloader(proxy, bootloader_address=41)"
   ]
  },
  {
   "cell_type": "markdown",
   "metadata": {},
   "source": [
    "-----------------------------------------------\n",
    "\n",
    "\n",
    "# Flash firmware"
   ]
  },
  {
   "cell_type": "code",
   "execution_count": null,
   "metadata": {
    "ExecuteTime": {
     "end_time": "2017-11-22T23:16:29.709000Z",
     "start_time": "2017-11-22T23:16:29.646000Z"
    },
    "collapsed": true
   },
   "outputs": [],
   "source": [
    "write_firmware(bootloader, switching_board, firmware_path)"
   ]
  },
  {
   "cell_type": "markdown",
   "metadata": {},
   "source": [
    "-----------------------------------------------\n",
    "\n",
    "\n",
    "# Set switching board UUID"
   ]
  },
  {
   "cell_type": "code",
   "execution_count": null,
   "metadata": {
    "collapsed": true
   },
   "outputs": [],
   "source": [
    "import uuid\n",
    "\n",
    "assert(switching_board is not None)\n",
    "hv_uuid = uuid.UUID('XXXXXXXX-XXXX-XXXX-XXXX-XXXXXXXXXXXX')\n",
    "set_board_uuid(switching_board, hv_uuid)\n",
    "time.sleep(.1)\n",
    "print 'Set UUID to:', switching_board.uuid"
   ]
  },
  {
   "cell_type": "markdown",
   "metadata": {},
   "source": [
    "-----------------------------------------------\n",
    "\n",
    "\n",
    "# Set switching board I2C address"
   ]
  },
  {
   "cell_type": "code",
   "execution_count": null,
   "metadata": {
    "collapsed": true
   },
   "outputs": [],
   "source": [
    "assert(switching_board is not None)\n",
    "switching_board.set_i2c_address(32)"
   ]
  }
 ],
 "metadata": {
  "kernelspec": {
   "display_name": "Python 2",
   "language": "python",
   "name": "python2"
  },
  "language_info": {
   "codemirror_mode": {
    "name": "ipython",
    "version": 2
   },
   "file_extension": ".py",
   "mimetype": "text/x-python",
   "name": "python",
   "nbconvert_exporter": "python",
   "pygments_lexer": "ipython2",
   "version": "2.7.14"
  },
  "toc": {
   "base_numbering": 1,
   "nav_menu": {
    "height": "13px",
    "width": "253px"
   },
   "number_sections": true,
   "sideBar": true,
   "skip_h1_title": false,
   "title_cell": "Table of Contents",
   "title_sidebar": "Contents",
   "toc_cell": false,
   "toc_position": {},
   "toc_section_display": "block",
   "toc_window_display": false
  }
 },
 "nbformat": 4,
 "nbformat_minor": 2
}
